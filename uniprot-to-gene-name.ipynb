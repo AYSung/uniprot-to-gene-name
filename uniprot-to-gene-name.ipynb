{
 "cells": [
  {
   "cell_type": "code",
   "execution_count": 132,
   "source": [
    "import pandas as pd\r\n",
    "from pathlib import Path\r\n",
    "\r\n",
    "def create_mapping(prefix):\r\n",
    "    df = pd.read_csv(Path(f'uniprot-id-tables/{prefix}_idmapping.dat'), delimiter='\\t', header=None, index_col=[0], names=['UniProtKB-AC','ID_type','ID'])\r\n",
    "    result = df.loc[df['ID_type'] == 'Gene_Name', 'ID']\r\n",
    "    result.to_csv(Path(f'gene-name-tables/{prefix}_gene_names.txt'), sep='\\t')\r\n",
    "\r\n",
    "# Uncomment function call below and replace argument with prefix for .dat file (e.g., HUMAN_9606, MOUSE_10090)\r\n",
    "# create_mapping('HUMAN_9606')"
   ],
   "outputs": [],
   "metadata": {}
  }
 ],
 "metadata": {
  "orig_nbformat": 4,
  "language_info": {
   "name": "python",
   "version": "3.9.7",
   "mimetype": "text/x-python",
   "codemirror_mode": {
    "name": "ipython",
    "version": 3
   },
   "pygments_lexer": "ipython3",
   "nbconvert_exporter": "python",
   "file_extension": ".py"
  },
  "kernelspec": {
   "name": "python3",
   "display_name": "Python 3.9.7 64-bit ('data-science': conda)"
  },
  "interpreter": {
   "hash": "710bbebc4ac737f87a644753058c1c76d9c6413c3ef2105fc2ec9a45b175733e"
  }
 },
 "nbformat": 4,
 "nbformat_minor": 2
}